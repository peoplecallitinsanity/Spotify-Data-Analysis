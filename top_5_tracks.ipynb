{
 "cells": [
  {
   "cell_type": "code",
   "execution_count": 1,
   "id": "8ec7cd74",
   "metadata": {},
   "outputs": [
    {
     "data": {
      "text/html": [
       "<div>\n",
       "<style scoped>\n",
       "    .dataframe tbody tr th:only-of-type {\n",
       "        vertical-align: middle;\n",
       "    }\n",
       "\n",
       "    .dataframe tbody tr th {\n",
       "        vertical-align: top;\n",
       "    }\n",
       "\n",
       "    .dataframe thead th {\n",
       "        text-align: right;\n",
       "    }\n",
       "</style>\n",
       "<table border=\"1\" class=\"dataframe\">\n",
       "  <thead>\n",
       "    <tr style=\"text-align: right;\">\n",
       "      <th></th>\n",
       "      <th>Unnamed: 0</th>\n",
       "      <th>sigmaritan</th>\n",
       "      <th>endTime</th>\n",
       "      <th>artistName</th>\n",
       "      <th>trackName</th>\n",
       "      <th>msPlayed</th>\n",
       "    </tr>\n",
       "  </thead>\n",
       "  <tbody>\n",
       "    <tr>\n",
       "      <th>0</th>\n",
       "      <td>0</td>\n",
       "      <td>alex_clefos</td>\n",
       "      <td>2021-05-06 23:04</td>\n",
       "      <td>Shinedown</td>\n",
       "      <td>My Name (Wearing Me Out)</td>\n",
       "      <td>83780</td>\n",
       "    </tr>\n",
       "    <tr>\n",
       "      <th>1</th>\n",
       "      <td>1</td>\n",
       "      <td>alex_clefos</td>\n",
       "      <td>2021-05-07 00:29</td>\n",
       "      <td>Disturbed</td>\n",
       "      <td>Deify</td>\n",
       "      <td>1440453</td>\n",
       "    </tr>\n",
       "    <tr>\n",
       "      <th>2</th>\n",
       "      <td>2</td>\n",
       "      <td>alex_clefos</td>\n",
       "      <td>2021-05-07 00:29</td>\n",
       "      <td>Disturbed</td>\n",
       "      <td>Guarded</td>\n",
       "      <td>1776</td>\n",
       "    </tr>\n",
       "    <tr>\n",
       "      <th>3</th>\n",
       "      <td>3</td>\n",
       "      <td>alex_clefos</td>\n",
       "      <td>2021-05-07 00:46</td>\n",
       "      <td>Disturbed</td>\n",
       "      <td>Deify</td>\n",
       "      <td>1002243</td>\n",
       "    </tr>\n",
       "    <tr>\n",
       "      <th>4</th>\n",
       "      <td>4</td>\n",
       "      <td>alex_clefos</td>\n",
       "      <td>2021-05-07 00:46</td>\n",
       "      <td>Disturbed</td>\n",
       "      <td>Guarded</td>\n",
       "      <td>1646</td>\n",
       "    </tr>\n",
       "    <tr>\n",
       "      <th>...</th>\n",
       "      <td>...</td>\n",
       "      <td>...</td>\n",
       "      <td>...</td>\n",
       "      <td>...</td>\n",
       "      <td>...</td>\n",
       "      <td>...</td>\n",
       "    </tr>\n",
       "    <tr>\n",
       "      <th>351885</th>\n",
       "      <td>18350</td>\n",
       "      <td>vladimir_stojoc</td>\n",
       "      <td>2022-04-20 17:40</td>\n",
       "      <td>Lil Nas X</td>\n",
       "      <td>INDUSTRY BABY (feat. Jack Harlow)</td>\n",
       "      <td>212352</td>\n",
       "    </tr>\n",
       "    <tr>\n",
       "      <th>351886</th>\n",
       "      <td>18351</td>\n",
       "      <td>vladimir_stojoc</td>\n",
       "      <td>2022-04-20 17:43</td>\n",
       "      <td>bbno$</td>\n",
       "      <td>resume</td>\n",
       "      <td>164426</td>\n",
       "    </tr>\n",
       "    <tr>\n",
       "      <th>351887</th>\n",
       "      <td>18352</td>\n",
       "      <td>vladimir_stojoc</td>\n",
       "      <td>2022-04-20 17:46</td>\n",
       "      <td>YUNGBLUD</td>\n",
       "      <td>braindead!</td>\n",
       "      <td>163293</td>\n",
       "    </tr>\n",
       "    <tr>\n",
       "      <th>351888</th>\n",
       "      <td>18353</td>\n",
       "      <td>vladimir_stojoc</td>\n",
       "      <td>2022-04-20 17:49</td>\n",
       "      <td>Rich Brian</td>\n",
       "      <td>Getcho Mans</td>\n",
       "      <td>211306</td>\n",
       "    </tr>\n",
       "    <tr>\n",
       "      <th>351889</th>\n",
       "      <td>18354</td>\n",
       "      <td>vladimir_stojoc</td>\n",
       "      <td>2022-04-20 17:53</td>\n",
       "      <td>Rich Brian</td>\n",
       "      <td>New Tooth</td>\n",
       "      <td>220000</td>\n",
       "    </tr>\n",
       "  </tbody>\n",
       "</table>\n",
       "<p>351890 rows × 6 columns</p>\n",
       "</div>"
      ],
      "text/plain": [
       "        Unnamed: 0       sigmaritan           endTime  artistName  \\\n",
       "0                0      alex_clefos  2021-05-06 23:04   Shinedown   \n",
       "1                1      alex_clefos  2021-05-07 00:29   Disturbed   \n",
       "2                2      alex_clefos  2021-05-07 00:29   Disturbed   \n",
       "3                3      alex_clefos  2021-05-07 00:46   Disturbed   \n",
       "4                4      alex_clefos  2021-05-07 00:46   Disturbed   \n",
       "...            ...              ...               ...         ...   \n",
       "351885       18350  vladimir_stojoc  2022-04-20 17:40   Lil Nas X   \n",
       "351886       18351  vladimir_stojoc  2022-04-20 17:43       bbno$   \n",
       "351887       18352  vladimir_stojoc  2022-04-20 17:46    YUNGBLUD   \n",
       "351888       18353  vladimir_stojoc  2022-04-20 17:49  Rich Brian   \n",
       "351889       18354  vladimir_stojoc  2022-04-20 17:53  Rich Brian   \n",
       "\n",
       "                                trackName  msPlayed  \n",
       "0                My Name (Wearing Me Out)     83780  \n",
       "1                                   Deify   1440453  \n",
       "2                                 Guarded      1776  \n",
       "3                                   Deify   1002243  \n",
       "4                                 Guarded      1646  \n",
       "...                                   ...       ...  \n",
       "351885  INDUSTRY BABY (feat. Jack Harlow)    212352  \n",
       "351886                             resume    164426  \n",
       "351887                         braindead!    163293  \n",
       "351888                        Getcho Mans    211306  \n",
       "351889                          New Tooth    220000  \n",
       "\n",
       "[351890 rows x 6 columns]"
      ]
     },
     "execution_count": 1,
     "metadata": {},
     "output_type": "execute_result"
    }
   ],
   "source": [
    "#Importing pandas library and the dataset\n",
    "import pandas as pd\n",
    "df = pd.read_csv('Sigmoid_Spotify_Data_2.csv')\n",
    "df"
   ]
  },
  {
   "cell_type": "code",
   "execution_count": 2,
   "id": "c4ed4a57",
   "metadata": {},
   "outputs": [],
   "source": [
    "#Saving in a dictionary 5 most listened tracks\n",
    "dict_5favtracks = df['trackName'].value_counts().head(5).to_dict()"
   ]
  },
  {
   "cell_type": "code",
   "execution_count": 3,
   "id": "c4547c1c",
   "metadata": {},
   "outputs": [
    {
     "data": {
      "text/plain": [
       "{'Build a Bitch': 1402,\n",
       " 'Снова я напиваюсь': 1061,\n",
       " 'Bad Habits': 1057,\n",
       " 'Levitating (feat. DaBaby)': 1020,\n",
       " 'King of the Clouds': 953}"
      ]
     },
     "execution_count": 3,
     "metadata": {},
     "output_type": "execute_result"
    }
   ],
   "source": [
    "dict_5favtracks"
   ]
  },
  {
   "cell_type": "markdown",
   "id": "9548f67e",
   "metadata": {},
   "source": [
    "This method isn't a good one because some sigamaritans listened more tracks on repeat than others."
   ]
  },
  {
   "cell_type": "code",
   "execution_count": 4,
   "id": "286ded02",
   "metadata": {},
   "outputs": [],
   "source": [
    "#Importing csv library\n",
    "import csv\n",
    "#Saving the results in a txt file\n",
    "with open('5_most_listened_tracks.txt', 'w', encoding=\"utf-8\") as f:\n",
    "    for key in dict_5favtracks.keys():\n",
    "        f.write(\"%s,%s\\n\"%(key,dict_5favtracks[key]))"
   ]
  },
  {
   "cell_type": "code",
   "execution_count": 5,
   "id": "5a55ab1b",
   "metadata": {},
   "outputs": [
    {
     "data": {
      "text/plain": [
       "nicolae_gherman        8593\n",
       "vasile_papaluta        7887\n",
       "andreea_covalevschi    4754\n",
       "arina_coroliuc         4578\n",
       "nicolae_dubenco        4430\n",
       "eduard_balamatiuc      2929\n",
       "vladimir_stojoc        2591\n",
       "marius_sclearuc        2350\n",
       "irina_tiora            2208\n",
       "elena_timbur           2046\n",
       "vlada_pulbere          1643\n",
       "denis_smocvin          1110\n",
       "alex_clefos             856\n",
       "marius_purici           696\n",
       "lavinia_spinu            51\n",
       "Name: sigmaritan, dtype: int64"
      ]
     },
     "execution_count": 5,
     "metadata": {},
     "output_type": "execute_result"
    }
   ],
   "source": [
    "#Importing numpy library\n",
    "import numpy as np\n",
    "#Removing the duplicates of songs from the same listener\n",
    "df2 = df[~pd.DataFrame(np.sort(df[['sigmaritan','trackName', 'artistName']], axis=1)).duplicated(keep='first')]\n",
    "#Visualising how many unique songs a sigmaritan has listened to\n",
    "df2['sigmaritan'].value_counts()"
   ]
  },
  {
   "cell_type": "code",
   "execution_count": 6,
   "id": "8bc41bcf",
   "metadata": {},
   "outputs": [
    {
     "data": {
      "text/plain": [
       "{('Believer', 'Imagine Dragons'): 11,\n",
       " ('MONTERO (Call Me By Your Name)', 'Lil Nas X'): 10,\n",
       " ('The Nights', 'Avicii'): 10,\n",
       " ('Waiting For Love', 'Avicii'): 10,\n",
       " ('Do I Wanna Know?', 'Arctic Monkeys'): 10,\n",
       " ('Without Me', 'Eminem'): 10,\n",
       " (\"'Till I Collapse\", 'Eminem'): 10,\n",
       " ('Heat Waves', 'Glass Animals'): 10}"
      ]
     },
     "execution_count": 6,
     "metadata": {},
     "output_type": "execute_result"
    }
   ],
   "source": [
    "#Saving in a dictionary 14 favorite songs of sigmaritans and how many of them listened it (from 14 persons)\n",
    "dict_8favtracks = df2[['trackName','artistName']].value_counts().head(8).to_dict()\n",
    "dict_8favtracks"
   ]
  },
  {
   "cell_type": "code",
   "execution_count": 7,
   "id": "be764224",
   "metadata": {},
   "outputs": [],
   "source": [
    "#Saving in a txt file the results\n",
    "with open('8_fav_tracks.txt', 'w', encoding=\"utf-8\") as f:\n",
    "    for key in dict_8favtracks.keys():\n",
    "        f.write(\"%s,%s\\n\"%(key,dict_8favtracks[key]))"
   ]
  },
  {
   "cell_type": "code",
   "execution_count": 8,
   "id": "f96b7e30",
   "metadata": {},
   "outputs": [],
   "source": [
    "#Saving in a dictionary the most 69 favorite songs\n",
    "top_69 = df2[['trackName','artistName']].value_counts().head(69).to_dict()\n",
    "#Saving the results in a txt file\n",
    "with open('top_69_tracks.txt', 'w', encoding=\"utf-8\") as f:\n",
    "    for key in top_69.keys():\n",
    "        f.write(\"%s,%s\\n\"%(key,top_69[key]))"
   ]
  },
  {
   "cell_type": "code",
   "execution_count": 9,
   "id": "e3809369",
   "metadata": {
    "scrolled": false
   },
   "outputs": [
    {
     "data": {
      "text/plain": [
       "{('Believer', 'Imagine Dragons'): 11,\n",
       " ('MONTERO (Call Me By Your Name)', 'Lil Nas X'): 10,\n",
       " ('The Nights', 'Avicii'): 10,\n",
       " ('Waiting For Love', 'Avicii'): 10,\n",
       " ('Do I Wanna Know?', 'Arctic Monkeys'): 10,\n",
       " ('Without Me', 'Eminem'): 10,\n",
       " (\"'Till I Collapse\", 'Eminem'): 10,\n",
       " ('Heat Waves', 'Glass Animals'): 10,\n",
       " ('Wake Me Up', 'Avicii'): 9,\n",
       " ('Centuries', 'Fall Out Boy'): 9,\n",
       " (\"Gangsta's Paradise\", 'Coolio'): 9,\n",
       " ('Blinding Lights', 'The Weeknd'): 9,\n",
       " ('good 4 u', 'Olivia Rodrigo'): 9,\n",
       " ('Seven Nation Army', 'The White Stripes'): 9,\n",
       " ('Numb', 'Linkin Park'): 9,\n",
       " ('Can You Feel My Heart', 'Bring Me The Horizon'): 9,\n",
       " ('Stereo Hearts (feat. Adam Levine)', 'Gym Class Heroes'): 9,\n",
       " ('Drag Me Down', 'One Direction'): 8,\n",
       " (\"Why'd You Only Call Me When You're High?\", 'Arctic Monkeys'): 8,\n",
       " ('One Right Now (with The Weeknd)', 'Post Malone'): 8,\n",
       " ('Youngblood', '5 Seconds of Summer'): 8,\n",
       " ('CORALINE', 'Måneskin'): 8,\n",
       " ('Counting Stars', 'OneRepublic'): 8,\n",
       " ('THATS WHAT I WANT', 'Lil Nas X'): 8,\n",
       " ('Love The Way You Lie', 'Eminem'): 8,\n",
       " ('Take Me To Church', 'Hozier'): 8,\n",
       " ('INDUSTRY BABY (feat. Jack Harlow)', 'Lil Nas X'): 8,\n",
       " ('Come As You Are', 'Nirvana'): 8,\n",
       " ('ZITTI E BUONI', 'Måneskin'): 8,\n",
       " ('The Real Slim Shady', 'Eminem'): 8,\n",
       " ('Closer', 'The Chainsmokers'): 8,\n",
       " ('Enemy (with JID) - from the series Arcane League of Legends',\n",
       "  'Imagine Dragons'): 8,\n",
       " ('Levels - Radio Edit', 'Avicii'): 8,\n",
       " (\"Can't Hold Us (feat. Ray Dalton)\", 'Macklemore & Ryan Lewis'): 8,\n",
       " ('Mood (feat. iann dior)', '24kGoldn'): 8,\n",
       " ('Pompeii', 'Bastille'): 8,\n",
       " ('I Hate Everything About You', 'Three Days Grace'): 8,\n",
       " ('Cradles', 'Sub Urban'): 8,\n",
       " ('In the End', 'Linkin Park'): 8,\n",
       " ('Back In Black', 'AC/DC'): 8,\n",
       " ('STAY (with Justin Bieber)', 'The Kid LAROI'): 8,\n",
       " ('Runaway', 'AURORA'): 8,\n",
       " (\"Beggin'\", 'Måneskin'): 8,\n",
       " ('WITHOUT YOU', 'The Kid LAROI'): 8,\n",
       " ('I WANNA BE YOUR SLAVE', 'Måneskin'): 8,\n",
       " ('you broke me first', 'Tate McRae'): 7,\n",
       " (\"You're Gonna Go Far, Kid\", 'The Offspring'): 7,\n",
       " ('Run', 'OneRepublic'): 7,\n",
       " ('Without You (feat. Sandro Cavazza)', 'Avicii'): 7,\n",
       " ('Godzilla (feat. Juice WRLD)', 'Eminem'): 7,\n",
       " ('Chop Suey!', 'System Of A Down'): 7,\n",
       " ('Riptide', 'Vance Joy'): 7,\n",
       " ('Cold Heart - PNAU Remix', 'Elton John'): 7,\n",
       " ('Californication', 'Red Hot Chili Peppers'): 7,\n",
       " ('Hall of Fame (feat. will.i.am)', 'The Script'): 7,\n",
       " ('Levitating (feat. DaBaby)', 'Dua Lipa'): 7,\n",
       " ('Habits (Stay High)', 'Tove Lo'): 7,\n",
       " ('Thunder', 'Imagine Dragons'): 7,\n",
       " ('T.N.T.', 'AC/DC'): 7,\n",
       " ('Sweater Weather', 'The Neighbourhood'): 7,\n",
       " ('Me And My Broken Heart', 'Rixton'): 7,\n",
       " ('Hey Brother', 'Avicii'): 7,\n",
       " ('Before You Go', 'Lewis Capaldi'): 7,\n",
       " ('Let You Down', 'NF'): 7,\n",
       " ('Bad Habits', 'Ed Sheeran'): 7,\n",
       " ('Payphone', 'Maroon 5'): 7,\n",
       " ('Treat You Better', 'Shawn Mendes'): 7,\n",
       " ('Save Your Tears', 'The Weeknd'): 7,\n",
       " ('Easy On Me', 'Adele'): 7}"
      ]
     },
     "execution_count": 9,
     "metadata": {},
     "output_type": "execute_result"
    }
   ],
   "source": [
    "df2[['trackName','artistName']].value_counts().head(69).to_dict()"
   ]
  },
  {
   "cell_type": "code",
   "execution_count": null,
   "id": "5af2393f",
   "metadata": {},
   "outputs": [],
   "source": []
  }
 ],
 "metadata": {
  "kernelspec": {
   "display_name": "Python 3 (ipykernel)",
   "language": "python",
   "name": "python3"
  },
  "language_info": {
   "codemirror_mode": {
    "name": "ipython",
    "version": 3
   },
   "file_extension": ".py",
   "mimetype": "text/x-python",
   "name": "python",
   "nbconvert_exporter": "python",
   "pygments_lexer": "ipython3",
   "version": "3.7.7"
  }
 },
 "nbformat": 4,
 "nbformat_minor": 5
}
