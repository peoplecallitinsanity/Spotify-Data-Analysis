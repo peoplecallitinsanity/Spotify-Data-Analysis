{
 "cells": [
  {
   "cell_type": "code",
   "execution_count": 1,
   "id": "8ec7cd74",
   "metadata": {},
   "outputs": [
    {
     "data": {
      "text/html": [
       "<div>\n",
       "<style scoped>\n",
       "    .dataframe tbody tr th:only-of-type {\n",
       "        vertical-align: middle;\n",
       "    }\n",
       "\n",
       "    .dataframe tbody tr th {\n",
       "        vertical-align: top;\n",
       "    }\n",
       "\n",
       "    .dataframe thead th {\n",
       "        text-align: right;\n",
       "    }\n",
       "</style>\n",
       "<table border=\"1\" class=\"dataframe\">\n",
       "  <thead>\n",
       "    <tr style=\"text-align: right;\">\n",
       "      <th></th>\n",
       "      <th>sigmaritan</th>\n",
       "      <th>endTime</th>\n",
       "      <th>artistName</th>\n",
       "      <th>trackName</th>\n",
       "      <th>msPlayed</th>\n",
       "    </tr>\n",
       "  </thead>\n",
       "  <tbody>\n",
       "    <tr>\n",
       "      <th>0</th>\n",
       "      <td>vlada_pulbere</td>\n",
       "      <td>2021-06-16 22:25</td>\n",
       "      <td>Pôngo</td>\n",
       "      <td>Lose My Mind - ARTBAT Rave Mix</td>\n",
       "      <td>43280</td>\n",
       "    </tr>\n",
       "    <tr>\n",
       "      <th>1</th>\n",
       "      <td>vlada_pulbere</td>\n",
       "      <td>2021-06-16 22:27</td>\n",
       "      <td>Måneskin</td>\n",
       "      <td>Un temporale - Live</td>\n",
       "      <td>123987</td>\n",
       "    </tr>\n",
       "    <tr>\n",
       "      <th>2</th>\n",
       "      <td>vlada_pulbere</td>\n",
       "      <td>2021-06-16 22:29</td>\n",
       "      <td>Måneskin</td>\n",
       "      <td>L'altra dimensione</td>\n",
       "      <td>126706</td>\n",
       "    </tr>\n",
       "    <tr>\n",
       "      <th>3</th>\n",
       "      <td>vlada_pulbere</td>\n",
       "      <td>2021-06-16 22:30</td>\n",
       "      <td>Måneskin</td>\n",
       "      <td>Fear for Nobody</td>\n",
       "      <td>12262</td>\n",
       "    </tr>\n",
       "    <tr>\n",
       "      <th>4</th>\n",
       "      <td>vlada_pulbere</td>\n",
       "      <td>2021-06-21 21:38</td>\n",
       "      <td>XXXTENTACION</td>\n",
       "      <td>Everybody Dies In Their Nightmares</td>\n",
       "      <td>95467</td>\n",
       "    </tr>\n",
       "    <tr>\n",
       "      <th>...</th>\n",
       "      <td>...</td>\n",
       "      <td>...</td>\n",
       "      <td>...</td>\n",
       "      <td>...</td>\n",
       "      <td>...</td>\n",
       "    </tr>\n",
       "    <tr>\n",
       "      <th>352617</th>\n",
       "      <td>alex_clefos</td>\n",
       "      <td>2022-05-07 02:53</td>\n",
       "      <td>Disturbed</td>\n",
       "      <td>Stricken</td>\n",
       "      <td>245226</td>\n",
       "    </tr>\n",
       "    <tr>\n",
       "      <th>352618</th>\n",
       "      <td>alex_clefos</td>\n",
       "      <td>2022-05-07 23:45</td>\n",
       "      <td>Disturbed</td>\n",
       "      <td>Torn</td>\n",
       "      <td>6627626</td>\n",
       "    </tr>\n",
       "    <tr>\n",
       "      <th>352619</th>\n",
       "      <td>alex_clefos</td>\n",
       "      <td>2022-05-07 23:51</td>\n",
       "      <td>Disturbed</td>\n",
       "      <td>The Infection</td>\n",
       "      <td>1850</td>\n",
       "    </tr>\n",
       "    <tr>\n",
       "      <th>352620</th>\n",
       "      <td>alex_clefos</td>\n",
       "      <td>2022-05-07 23:51</td>\n",
       "      <td>Disturbed</td>\n",
       "      <td>Warrior</td>\n",
       "      <td>355970</td>\n",
       "    </tr>\n",
       "    <tr>\n",
       "      <th>352621</th>\n",
       "      <td>alex_clefos</td>\n",
       "      <td>2022-05-07 23:55</td>\n",
       "      <td>Disturbed</td>\n",
       "      <td>Warrior</td>\n",
       "      <td>212780</td>\n",
       "    </tr>\n",
       "  </tbody>\n",
       "</table>\n",
       "<p>352622 rows × 5 columns</p>\n",
       "</div>"
      ],
      "text/plain": [
       "           sigmaritan           endTime    artistName  \\\n",
       "0       vlada_pulbere  2021-06-16 22:25         Pôngo   \n",
       "1       vlada_pulbere  2021-06-16 22:27      Måneskin   \n",
       "2       vlada_pulbere  2021-06-16 22:29      Måneskin   \n",
       "3       vlada_pulbere  2021-06-16 22:30      Måneskin   \n",
       "4       vlada_pulbere  2021-06-21 21:38  XXXTENTACION   \n",
       "...               ...               ...           ...   \n",
       "352617    alex_clefos  2022-05-07 02:53     Disturbed   \n",
       "352618    alex_clefos  2022-05-07 23:45     Disturbed   \n",
       "352619    alex_clefos  2022-05-07 23:51     Disturbed   \n",
       "352620    alex_clefos  2022-05-07 23:51     Disturbed   \n",
       "352621    alex_clefos  2022-05-07 23:55     Disturbed   \n",
       "\n",
       "                                 trackName  msPlayed  \n",
       "0           Lose My Mind - ARTBAT Rave Mix     43280  \n",
       "1                      Un temporale - Live    123987  \n",
       "2                       L'altra dimensione    126706  \n",
       "3                          Fear for Nobody     12262  \n",
       "4       Everybody Dies In Their Nightmares     95467  \n",
       "...                                    ...       ...  \n",
       "352617                            Stricken    245226  \n",
       "352618                                Torn   6627626  \n",
       "352619                       The Infection      1850  \n",
       "352620                             Warrior    355970  \n",
       "352621                             Warrior    212780  \n",
       "\n",
       "[352622 rows x 5 columns]"
      ]
     },
     "execution_count": 1,
     "metadata": {},
     "output_type": "execute_result"
    }
   ],
   "source": [
    "#Importing pandas library and the dataset\n",
    "import pandas as pd\n",
    "df = pd.read_csv('Sigmoid_Spotify_Data.csv')\n",
    "df"
   ]
  },
  {
   "cell_type": "code",
   "execution_count": 3,
   "id": "c4ed4a57",
   "metadata": {},
   "outputs": [],
   "source": [
    "#Saving in a dictionary 5 most listened tracks\n",
    "dict_5favartists = df['artistName'].value_counts().head(5).to_dict()"
   ]
  },
  {
   "cell_type": "code",
   "execution_count": 4,
   "id": "c4547c1c",
   "metadata": {},
   "outputs": [
    {
     "data": {
      "text/plain": [
       "{'Disturbed': 12602,\n",
       " 'Fearless Motivation': 5459,\n",
       " 'Oxxxymiron': 4391,\n",
       " 'Panic! At The Disco': 2914,\n",
       " 'Alternosfera': 2771}"
      ]
     },
     "execution_count": 4,
     "metadata": {},
     "output_type": "execute_result"
    }
   ],
   "source": [
    "dict_5favartists"
   ]
  },
  {
   "cell_type": "code",
   "execution_count": 7,
   "id": "170dca73",
   "metadata": {},
   "outputs": [
    {
     "data": {
      "text/plain": [
       "alex_clefos        12426\n",
       "vasile_papaluta      167\n",
       "nicolae_gherman        8\n",
       "marius_sclearuc        1\n",
       "Name: sigmaritan, dtype: int64"
      ]
     },
     "execution_count": 7,
     "metadata": {},
     "output_type": "execute_result"
    }
   ],
   "source": [
    "df.loc[df['artistName'] == 'Disturbed']['sigmaritan'].value_counts()"
   ]
  },
  {
   "cell_type": "markdown",
   "id": "9548f67e",
   "metadata": {},
   "source": [
    "This method isn't a good one because some sigamaritans listened more tracks on repeat than others."
   ]
  },
  {
   "cell_type": "code",
   "execution_count": 8,
   "id": "286ded02",
   "metadata": {},
   "outputs": [],
   "source": [
    "#Importing csv library\n",
    "import csv\n",
    "#Saving the results in a txt file\n",
    "with open('5_most_listened_artists.txt', 'w', encoding=\"utf-8\") as f:\n",
    "    for key in dict_5favartists.keys():\n",
    "        f.write(\"%s,%s\\n\"%(key,dict_5favartists[key]))"
   ]
  },
  {
   "cell_type": "code",
   "execution_count": 9,
   "id": "5a55ab1b",
   "metadata": {},
   "outputs": [
    {
     "data": {
      "text/plain": [
       "nicolae_gherman        2950\n",
       "vasile_papaluta        2820\n",
       "arina_coroliuc         2387\n",
       "nicolae_dubenco        2060\n",
       "irina_tiora            1367\n",
       "andreea_covalevschi    1322\n",
       "eduard_balamatiuc      1241\n",
       "vladimir_stojoc         868\n",
       "marius_sclearuc         854\n",
       "vlada_pulbere           790\n",
       "denis_smocvin           392\n",
       "marius_purici           370\n",
       "alex_clefos             314\n",
       "lavinia_spinu            44\n",
       "Name: sigmaritan, dtype: int64"
      ]
     },
     "execution_count": 9,
     "metadata": {},
     "output_type": "execute_result"
    }
   ],
   "source": [
    "#Importing numpy library\n",
    "import numpy as np\n",
    "#Removing the duplicates of artists from the same listener\n",
    "df2 = df[~pd.DataFrame(np.sort(df[['sigmaritan','artistName']], axis=1)).duplicated(keep='first')]\n",
    "#Visualising how many unique artists a sigmaritan has listened to\n",
    "df2['sigmaritan'].value_counts()"
   ]
  },
  {
   "cell_type": "code",
   "execution_count": 12,
   "id": "8bc41bcf",
   "metadata": {},
   "outputs": [
    {
     "data": {
      "text/plain": [
       "{'Eminem': 12,\n",
       " 'Arctic Monkeys': 12,\n",
       " 'Lil Nas X': 11,\n",
       " 'Coldplay': 11,\n",
       " 'Imagine Dragons': 11,\n",
       " 'Avicii': 11,\n",
       " 'The Weeknd': 10,\n",
       " 'The Chainsmokers': 10,\n",
       " 'Hozier': 10,\n",
       " 'Ed Sheeran': 10,\n",
       " 'OneRepublic': 10,\n",
       " 'Linkin Park': 10}"
      ]
     },
     "execution_count": 12,
     "metadata": {},
     "output_type": "execute_result"
    }
   ],
   "source": [
    "#Saving in a dictionary 14 favorite artists of sigmaritans and how many of them listened it (from 14 persons)\n",
    "dict_5favartists = df2['artistName'].value_counts().head(12).to_dict()\n",
    "dict_5favartists"
   ]
  },
  {
   "cell_type": "code",
   "execution_count": 13,
   "id": "be764224",
   "metadata": {},
   "outputs": [],
   "source": [
    "#Saving in a txt file the results\n",
    "with open('14_fav_artists.txt', 'w', encoding=\"utf-8\") as f:\n",
    "    for key in dict_5favartists.keys():\n",
    "        f.write(\"%s,%s\\n\"%(key,dict_5favartists[key]))"
   ]
  },
  {
   "cell_type": "code",
   "execution_count": 15,
   "id": "f96b7e30",
   "metadata": {},
   "outputs": [],
   "source": [
    "#Saving in a dictionary the most 69 favorite artists\n",
    "top_69 = df2['artistName'].value_counts().head(69).to_dict()\n",
    "#Saving the results in a txt file\n",
    "with open('top_69_artists.txt', 'w', encoding=\"utf-8\") as f:\n",
    "    for key in top_69.keys():\n",
    "        f.write(\"%s,%s\\n\"%(key,top_69[key]))"
   ]
  },
  {
   "cell_type": "code",
   "execution_count": null,
   "id": "34c8745e",
   "metadata": {},
   "outputs": [],
   "source": []
  }
 ],
 "metadata": {
  "kernelspec": {
   "display_name": "Python 3 (ipykernel)",
   "language": "python",
   "name": "python3"
  },
  "language_info": {
   "codemirror_mode": {
    "name": "ipython",
    "version": 3
   },
   "file_extension": ".py",
   "mimetype": "text/x-python",
   "name": "python",
   "nbconvert_exporter": "python",
   "pygments_lexer": "ipython3",
   "version": "3.7.7"
  }
 },
 "nbformat": 4,
 "nbformat_minor": 5
}
