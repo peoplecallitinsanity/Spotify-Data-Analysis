{
 "cells": [
  {
   "cell_type": "code",
   "execution_count": 1,
   "id": "e2487d2e",
   "metadata": {},
   "outputs": [],
   "source": [
    "#Importing libraries and the dataset\n",
    "import pandas as pd\n",
    "import numpy as np\n",
    "from sklearn import preprocessing\n",
    "from sklearn.metrics import silhouette_score, silhouette_samples\n",
    "import matplotlib.cm as cm\n",
    "from sklearn.cluster import KMeans\n",
    "import matplotlib.pyplot as plt \n",
    "import seaborn as sns; sns.set()\n",
    "cluster = pd.read_csv('clustering_means.csv')"
   ]
  },
  {
   "cell_type": "code",
   "execution_count": 2,
   "id": "d9f5fdad",
   "metadata": {},
   "outputs": [
    {
     "data": {
      "text/html": [
       "<div>\n",
       "<style scoped>\n",
       "    .dataframe tbody tr th:only-of-type {\n",
       "        vertical-align: middle;\n",
       "    }\n",
       "\n",
       "    .dataframe tbody tr th {\n",
       "        vertical-align: top;\n",
       "    }\n",
       "\n",
       "    .dataframe thead th {\n",
       "        text-align: right;\n",
       "    }\n",
       "</style>\n",
       "<table border=\"1\" class=\"dataframe\">\n",
       "  <thead>\n",
       "    <tr style=\"text-align: right;\">\n",
       "      <th></th>\n",
       "      <th>sigmaritan</th>\n",
       "      <th>energy</th>\n",
       "      <th>danceability</th>\n",
       "      <th>valence</th>\n",
       "      <th>tempo</th>\n",
       "      <th>popularity</th>\n",
       "    </tr>\n",
       "  </thead>\n",
       "  <tbody>\n",
       "    <tr>\n",
       "      <th>0</th>\n",
       "      <td>alex_clefos</td>\n",
       "      <td>0.836610</td>\n",
       "      <td>0.502875</td>\n",
       "      <td>0.405703</td>\n",
       "      <td>128.829043</td>\n",
       "      <td>47.526797</td>\n",
       "    </tr>\n",
       "    <tr>\n",
       "      <th>1</th>\n",
       "      <td>andreea_covalevschi</td>\n",
       "      <td>0.710757</td>\n",
       "      <td>0.449651</td>\n",
       "      <td>0.413897</td>\n",
       "      <td>122.500013</td>\n",
       "      <td>39.313646</td>\n",
       "    </tr>\n",
       "    <tr>\n",
       "      <th>2</th>\n",
       "      <td>arina_coroliuc</td>\n",
       "      <td>0.586346</td>\n",
       "      <td>0.610177</td>\n",
       "      <td>0.457723</td>\n",
       "      <td>118.518071</td>\n",
       "      <td>54.740581</td>\n",
       "    </tr>\n",
       "    <tr>\n",
       "      <th>3</th>\n",
       "      <td>denis_smocvin</td>\n",
       "      <td>0.742059</td>\n",
       "      <td>0.575356</td>\n",
       "      <td>0.442180</td>\n",
       "      <td>123.830053</td>\n",
       "      <td>58.462322</td>\n",
       "    </tr>\n",
       "    <tr>\n",
       "      <th>4</th>\n",
       "      <td>eduard_balamatiuc</td>\n",
       "      <td>0.623865</td>\n",
       "      <td>0.677276</td>\n",
       "      <td>0.453297</td>\n",
       "      <td>121.224153</td>\n",
       "      <td>59.803609</td>\n",
       "    </tr>\n",
       "    <tr>\n",
       "      <th>5</th>\n",
       "      <td>elena_timbur</td>\n",
       "      <td>0.640411</td>\n",
       "      <td>0.599622</td>\n",
       "      <td>0.482984</td>\n",
       "      <td>120.366621</td>\n",
       "      <td>62.771091</td>\n",
       "    </tr>\n",
       "    <tr>\n",
       "      <th>6</th>\n",
       "      <td>irina_tiora</td>\n",
       "      <td>0.522172</td>\n",
       "      <td>0.517497</td>\n",
       "      <td>0.346859</td>\n",
       "      <td>119.570217</td>\n",
       "      <td>43.816817</td>\n",
       "    </tr>\n",
       "    <tr>\n",
       "      <th>7</th>\n",
       "      <td>lavinia_spinu</td>\n",
       "      <td>0.780510</td>\n",
       "      <td>0.592216</td>\n",
       "      <td>0.389737</td>\n",
       "      <td>125.034020</td>\n",
       "      <td>55.979167</td>\n",
       "    </tr>\n",
       "    <tr>\n",
       "      <th>8</th>\n",
       "      <td>marius_purici</td>\n",
       "      <td>0.642618</td>\n",
       "      <td>0.637237</td>\n",
       "      <td>0.468233</td>\n",
       "      <td>120.448356</td>\n",
       "      <td>61.432612</td>\n",
       "    </tr>\n",
       "    <tr>\n",
       "      <th>9</th>\n",
       "      <td>marius_sclearuc</td>\n",
       "      <td>0.666944</td>\n",
       "      <td>0.486100</td>\n",
       "      <td>0.404296</td>\n",
       "      <td>123.612276</td>\n",
       "      <td>39.244978</td>\n",
       "    </tr>\n",
       "    <tr>\n",
       "      <th>10</th>\n",
       "      <td>nicolae_dubenco</td>\n",
       "      <td>0.654691</td>\n",
       "      <td>0.684913</td>\n",
       "      <td>0.432274</td>\n",
       "      <td>122.965140</td>\n",
       "      <td>52.136424</td>\n",
       "    </tr>\n",
       "    <tr>\n",
       "      <th>11</th>\n",
       "      <td>nicolae_gherman</td>\n",
       "      <td>0.634779</td>\n",
       "      <td>0.615146</td>\n",
       "      <td>0.452823</td>\n",
       "      <td>120.560509</td>\n",
       "      <td>54.550868</td>\n",
       "    </tr>\n",
       "    <tr>\n",
       "      <th>12</th>\n",
       "      <td>vasile_papaluta</td>\n",
       "      <td>0.719381</td>\n",
       "      <td>0.624972</td>\n",
       "      <td>0.466698</td>\n",
       "      <td>122.355780</td>\n",
       "      <td>51.417266</td>\n",
       "    </tr>\n",
       "    <tr>\n",
       "      <th>13</th>\n",
       "      <td>vlada_pulbere</td>\n",
       "      <td>0.485727</td>\n",
       "      <td>0.594992</td>\n",
       "      <td>0.394768</td>\n",
       "      <td>117.243851</td>\n",
       "      <td>59.817829</td>\n",
       "    </tr>\n",
       "    <tr>\n",
       "      <th>14</th>\n",
       "      <td>vladimir_stojoc</td>\n",
       "      <td>0.458597</td>\n",
       "      <td>0.621167</td>\n",
       "      <td>0.342041</td>\n",
       "      <td>117.335094</td>\n",
       "      <td>51.598158</td>\n",
       "    </tr>\n",
       "    <tr>\n",
       "      <th>15</th>\n",
       "      <td>mean</td>\n",
       "      <td>0.647031</td>\n",
       "      <td>0.585947</td>\n",
       "      <td>0.423568</td>\n",
       "      <td>121.626213</td>\n",
       "      <td>0.000000</td>\n",
       "    </tr>\n",
       "  </tbody>\n",
       "</table>\n",
       "</div>"
      ],
      "text/plain": [
       "             sigmaritan    energy  danceability   valence       tempo  \\\n",
       "0           alex_clefos  0.836610      0.502875  0.405703  128.829043   \n",
       "1   andreea_covalevschi  0.710757      0.449651  0.413897  122.500013   \n",
       "2        arina_coroliuc  0.586346      0.610177  0.457723  118.518071   \n",
       "3         denis_smocvin  0.742059      0.575356  0.442180  123.830053   \n",
       "4     eduard_balamatiuc  0.623865      0.677276  0.453297  121.224153   \n",
       "5          elena_timbur  0.640411      0.599622  0.482984  120.366621   \n",
       "6           irina_tiora  0.522172      0.517497  0.346859  119.570217   \n",
       "7         lavinia_spinu  0.780510      0.592216  0.389737  125.034020   \n",
       "8         marius_purici  0.642618      0.637237  0.468233  120.448356   \n",
       "9       marius_sclearuc  0.666944      0.486100  0.404296  123.612276   \n",
       "10      nicolae_dubenco  0.654691      0.684913  0.432274  122.965140   \n",
       "11      nicolae_gherman  0.634779      0.615146  0.452823  120.560509   \n",
       "12      vasile_papaluta  0.719381      0.624972  0.466698  122.355780   \n",
       "13        vlada_pulbere  0.485727      0.594992  0.394768  117.243851   \n",
       "14      vladimir_stojoc  0.458597      0.621167  0.342041  117.335094   \n",
       "15                 mean  0.647031      0.585947  0.423568  121.626213   \n",
       "\n",
       "    popularity  \n",
       "0    47.526797  \n",
       "1    39.313646  \n",
       "2    54.740581  \n",
       "3    58.462322  \n",
       "4    59.803609  \n",
       "5    62.771091  \n",
       "6    43.816817  \n",
       "7    55.979167  \n",
       "8    61.432612  \n",
       "9    39.244978  \n",
       "10   52.136424  \n",
       "11   54.550868  \n",
       "12   51.417266  \n",
       "13   59.817829  \n",
       "14   51.598158  \n",
       "15    0.000000  "
      ]
     },
     "execution_count": 2,
     "metadata": {},
     "output_type": "execute_result"
    }
   ],
   "source": [
    "cluster"
   ]
  },
  {
   "cell_type": "code",
   "execution_count": 3,
   "id": "0609e050",
   "metadata": {},
   "outputs": [],
   "source": [
    "#Transforming the values in a convenable scale\n",
    "scaler = preprocessing.StandardScaler()\n",
    "X = scaler.fit_transform(cluster.iloc[:-1,1:])"
   ]
  },
  {
   "cell_type": "code",
   "execution_count": 4,
   "id": "262a868c",
   "metadata": {},
   "outputs": [],
   "source": [
    "def draw_silhouette_plot(X,model, n_clusters):\n",
    "    '''\n",
    "        This function draw the silhouette plots depending on the model and number of clusters.\n",
    "    X - the matrix with values\n",
    "    model - the model used\n",
    "    n_clusters - number of groups to classify\n",
    "    '''\n",
    "    if model == KMeans:\n",
    "        clusterer = model(n_clusters = n_clusters, random_state=69)\n",
    "    elif model == GaussianMixture:\n",
    "        clusterer = GaussianMixture(n_components = n_clusters, random_state=69)\n",
    "    cluster_labels = clusterer.fit_predict(X)\n",
    "    silhouette_avg = silhouette_score(X, cluster_labels)\n",
    "    #Compute the silhouette scores for each sample\n",
    "    sample_silhouette_values = silhouette_samples(X, cluster_labels)\n",
    "    #The Silhouette Score ranges from -1 to 1\n",
    "    plt.xlim([-1, 1])\n",
    "    #The n_clusters + 1 * 10 is for insterting black space between plots\n",
    "    #to demarcate them clearly\n",
    "    plt.ylim([0, len(X) + (n_clusters + 1 ) * 10])\n",
    "    plt.yticks ([]) # Clear the yaris labels\n",
    "    plt.xticks ([-1, -0.8, -0.6, -0.4, -0.2, 0, 0.2, 0.4, 0.6, 0.8, 1])\n",
    "    y_lower = 10\n",
    "    for i in range(n_clusters):\n",
    "        ith_cluster_silhouette_values = sample_silhouette_values[cluster_labels == i]\n",
    "        ith_cluster_silhouette_values.sort ()\n",
    "        size_cluster_i = ith_cluster_silhouette_values.shape[0]\n",
    "        y_upper = y_lower + size_cluster_i\n",
    "        color = cm.nipy_spectral(float(i) / n_clusters)\n",
    "        plt.fill_betweenx(np.arange(y_lower, y_upper), 0, ith_cluster_silhouette_values,\n",
    "                          facecolor=color , edgecolor=color , alpha=0.7)\n",
    "        # Compute the new y-lower for next plot\n",
    "        y_lower = y_upper + 10 # 10 for the 0 samples\n",
    "    # The vertical line for the average silhouette score of all the values\n",
    "    plt.axvline (x=silhouette_avg, color=\"red\", linestyle=\"-\")\n",
    "    plt.title(f'The Silhouette Plot for n_clusters = {n_clusters}')\n",
    "    plt.legend(['Silhouette Score'] + [f'Cluster {i}' for i in range(n_clusters)])\n"
   ]
  },
  {
   "cell_type": "code",
   "execution_count": 5,
   "id": "c2fef590",
   "metadata": {},
   "outputs": [
    {
     "data": {
      "image/png": "[encoded data removed]",
      "text/plain": [
       "<Figure size 432x288 with 1 Axes>"
      ]
     },
     "metadata": {},
     "output_type": "display_data"
    },
    {
     "data": {
      "image/png": "[encoded data removed]",
      "text/plain": [
       "<Figure size 432x288 with 1 Axes>"
      ]
     },
     "metadata": {},
     "output_type": "display_data"
    }
   ],
   "source": [
    "#Plotting Sihlouette Score with KMeans algorithm for n_clusters =  3 and 4 \n",
    "from pylab import figure\n",
    "for i, k in enumerate([3, 4]):\n",
    "    figure(i)\n",
    "    draw_silhouette_plot(X, KMeans, k)"
   ]
  },
  {
   "cell_type": "markdown",
   "id": "397ffa4a",
   "metadata": {},
   "source": [
    "## These are the mean values for every cluster"
   ]
  },
  {
   "cell_type": "code",
   "execution_count": 6,
   "id": "1dacb3f9",
   "metadata": {},
   "outputs": [
    {
     "data": {
      "text/html": [
       "<div>\n",
       "<style scoped>\n",
       "    .dataframe tbody tr th:only-of-type {\n",
       "        vertical-align: middle;\n",
       "    }\n",
       "\n",
       "    .dataframe tbody tr th {\n",
       "        vertical-align: top;\n",
       "    }\n",
       "\n",
       "    .dataframe thead th {\n",
       "        text-align: right;\n",
       "    }\n",
       "</style>\n",
       "<table border=\"1\" class=\"dataframe\">\n",
       "  <thead>\n",
       "    <tr style=\"text-align: right;\">\n",
       "      <th></th>\n",
       "      <th>energy</th>\n",
       "      <th>danceability</th>\n",
       "      <th>valence</th>\n",
       "      <th>tempo</th>\n",
       "      <th>popularity</th>\n",
       "    </tr>\n",
       "  </thead>\n",
       "  <tbody>\n",
       "    <tr>\n",
       "      <th>K1</th>\n",
       "      <td>0.488832</td>\n",
       "      <td>0.577885</td>\n",
       "      <td>0.361223</td>\n",
       "      <td>118.049721</td>\n",
       "      <td>51.744268</td>\n",
       "    </tr>\n",
       "    <tr>\n",
       "      <th>K2</th>\n",
       "      <td>0.655519</td>\n",
       "      <td>0.628087</td>\n",
       "      <td>0.457027</td>\n",
       "      <td>121.283585</td>\n",
       "      <td>56.914347</td>\n",
       "    </tr>\n",
       "    <tr>\n",
       "      <th>K3</th>\n",
       "      <td>0.748705</td>\n",
       "      <td>0.507711</td>\n",
       "      <td>0.403408</td>\n",
       "      <td>124.993838</td>\n",
       "      <td>45.516147</td>\n",
       "    </tr>\n",
       "  </tbody>\n",
       "</table>\n",
       "</div>"
      ],
      "text/plain": [
       "      energy  danceability   valence       tempo  popularity\n",
       "K1  0.488832      0.577885  0.361223  118.049721   51.744268\n",
       "K2  0.655519      0.628087  0.457027  121.283585   56.914347\n",
       "K3  0.748705      0.507711  0.403408  124.993838   45.516147"
      ]
     },
     "execution_count": 6,
     "metadata": {},
     "output_type": "execute_result"
    }
   ],
   "source": [
    "#Instantiating KMeans model and fitting on X matrix\n",
    "kmeans = KMeans(n_clusters=3, random_state=69).fit(X)\n",
    "#Reverse the Standard Scaling \n",
    "centers = scaler.inverse_transform(kmeans.cluster_centers_)\n",
    "column_names = cluster.iloc[:-1,1:].columns\n",
    "#View the cluster centers as a pandas table\n",
    "pd.DataFrame(data=centers, index = [f'K{i}' for i in range(1, centers.shape[0] +1)], columns = column_names)"
   ]
  },
  {
   "cell_type": "code",
   "execution_count": 7,
   "id": "a5116142",
   "metadata": {},
   "outputs": [],
   "source": [
    "#Removing last row\n",
    "cluster.drop(cluster.tail(1).index,inplace=True)"
   ]
  },
  {
   "cell_type": "code",
   "execution_count": 8,
   "id": "ddf814f8",
   "metadata": {},
   "outputs": [],
   "source": [
    "#Introducing a new column with the id-s for every sigmarigan\n",
    "cluster['id'] = kmeans.labels_"
   ]
  },
  {
   "cell_type": "markdown",
   "id": "96170f49",
   "metadata": {},
   "source": [
    "## This is the dataframe with cluster id-s"
   ]
  },
  {
   "cell_type": "code",
   "execution_count": 9,
   "id": "8c5373c0",
   "metadata": {},
   "outputs": [
    {
     "data": {
      "text/html": [
       "<div>\n",
       "<style scoped>\n",
       "    .dataframe tbody tr th:only-of-type {\n",
       "        vertical-align: middle;\n",
       "    }\n",
       "\n",
       "    .dataframe tbody tr th {\n",
       "        vertical-align: top;\n",
       "    }\n",
       "\n",
       "    .dataframe thead th {\n",
       "        text-align: right;\n",
       "    }\n",
       "</style>\n",
       "<table border=\"1\" class=\"dataframe\">\n",
       "  <thead>\n",
       "    <tr style=\"text-align: right;\">\n",
       "      <th></th>\n",
       "      <th>sigmaritan</th>\n",
       "      <th>energy</th>\n",
       "      <th>danceability</th>\n",
       "      <th>valence</th>\n",
       "      <th>tempo</th>\n",
       "      <th>popularity</th>\n",
       "      <th>id</th>\n",
       "    </tr>\n",
       "  </thead>\n",
       "  <tbody>\n",
       "    <tr>\n",
       "      <th>0</th>\n",
       "      <td>alex_clefos</td>\n",
       "      <td>0.836610</td>\n",
       "      <td>0.502875</td>\n",
       "      <td>0.405703</td>\n",
       "      <td>128.829043</td>\n",
       "      <td>47.526797</td>\n",
       "      <td>2</td>\n",
       "    </tr>\n",
       "    <tr>\n",
       "      <th>1</th>\n",
       "      <td>andreea_covalevschi</td>\n",
       "      <td>0.710757</td>\n",
       "      <td>0.449651</td>\n",
       "      <td>0.413897</td>\n",
       "      <td>122.500013</td>\n",
       "      <td>39.313646</td>\n",
       "      <td>2</td>\n",
       "    </tr>\n",
       "    <tr>\n",
       "      <th>2</th>\n",
       "      <td>arina_coroliuc</td>\n",
       "      <td>0.586346</td>\n",
       "      <td>0.610177</td>\n",
       "      <td>0.457723</td>\n",
       "      <td>118.518071</td>\n",
       "      <td>54.740581</td>\n",
       "      <td>1</td>\n",
       "    </tr>\n",
       "    <tr>\n",
       "      <th>3</th>\n",
       "      <td>denis_smocvin</td>\n",
       "      <td>0.742059</td>\n",
       "      <td>0.575356</td>\n",
       "      <td>0.442180</td>\n",
       "      <td>123.830053</td>\n",
       "      <td>58.462322</td>\n",
       "      <td>1</td>\n",
       "    </tr>\n",
       "    <tr>\n",
       "      <th>4</th>\n",
       "      <td>eduard_balamatiuc</td>\n",
       "      <td>0.623865</td>\n",
       "      <td>0.677276</td>\n",
       "      <td>0.453297</td>\n",
       "      <td>121.224153</td>\n",
       "      <td>59.803609</td>\n",
       "      <td>1</td>\n",
       "    </tr>\n",
       "    <tr>\n",
       "      <th>5</th>\n",
       "      <td>elena_timbur</td>\n",
       "      <td>0.640411</td>\n",
       "      <td>0.599622</td>\n",
       "      <td>0.482984</td>\n",
       "      <td>120.366621</td>\n",
       "      <td>62.771091</td>\n",
       "      <td>1</td>\n",
       "    </tr>\n",
       "    <tr>\n",
       "      <th>6</th>\n",
       "      <td>irina_tiora</td>\n",
       "      <td>0.522172</td>\n",
       "      <td>0.517497</td>\n",
       "      <td>0.346859</td>\n",
       "      <td>119.570217</td>\n",
       "      <td>43.816817</td>\n",
       "      <td>0</td>\n",
       "    </tr>\n",
       "    <tr>\n",
       "      <th>7</th>\n",
       "      <td>lavinia_spinu</td>\n",
       "      <td>0.780510</td>\n",
       "      <td>0.592216</td>\n",
       "      <td>0.389737</td>\n",
       "      <td>125.034020</td>\n",
       "      <td>55.979167</td>\n",
       "      <td>2</td>\n",
       "    </tr>\n",
       "    <tr>\n",
       "      <th>8</th>\n",
       "      <td>marius_purici</td>\n",
       "      <td>0.642618</td>\n",
       "      <td>0.637237</td>\n",
       "      <td>0.468233</td>\n",
       "      <td>120.448356</td>\n",
       "      <td>61.432612</td>\n",
       "      <td>1</td>\n",
       "    </tr>\n",
       "    <tr>\n",
       "      <th>9</th>\n",
       "      <td>marius_sclearuc</td>\n",
       "      <td>0.666944</td>\n",
       "      <td>0.486100</td>\n",
       "      <td>0.404296</td>\n",
       "      <td>123.612276</td>\n",
       "      <td>39.244978</td>\n",
       "      <td>2</td>\n",
       "    </tr>\n",
       "    <tr>\n",
       "      <th>10</th>\n",
       "      <td>nicolae_dubenco</td>\n",
       "      <td>0.654691</td>\n",
       "      <td>0.684913</td>\n",
       "      <td>0.432274</td>\n",
       "      <td>122.965140</td>\n",
       "      <td>52.136424</td>\n",
       "      <td>1</td>\n",
       "    </tr>\n",
       "    <tr>\n",
       "      <th>11</th>\n",
       "      <td>nicolae_gherman</td>\n",
       "      <td>0.634779</td>\n",
       "      <td>0.615146</td>\n",
       "      <td>0.452823</td>\n",
       "      <td>120.560509</td>\n",
       "      <td>54.550868</td>\n",
       "      <td>1</td>\n",
       "    </tr>\n",
       "    <tr>\n",
       "      <th>12</th>\n",
       "      <td>vasile_papaluta</td>\n",
       "      <td>0.719381</td>\n",
       "      <td>0.624972</td>\n",
       "      <td>0.466698</td>\n",
       "      <td>122.355780</td>\n",
       "      <td>51.417266</td>\n",
       "      <td>1</td>\n",
       "    </tr>\n",
       "    <tr>\n",
       "      <th>13</th>\n",
       "      <td>vlada_pulbere</td>\n",
       "      <td>0.485727</td>\n",
       "      <td>0.594992</td>\n",
       "      <td>0.394768</td>\n",
       "      <td>117.243851</td>\n",
       "      <td>59.817829</td>\n",
       "      <td>0</td>\n",
       "    </tr>\n",
       "    <tr>\n",
       "      <th>14</th>\n",
       "      <td>vladimir_stojoc</td>\n",
       "      <td>0.458597</td>\n",
       "      <td>0.621167</td>\n",
       "      <td>0.342041</td>\n",
       "      <td>117.335094</td>\n",
       "      <td>51.598158</td>\n",
       "      <td>0</td>\n",
       "    </tr>\n",
       "  </tbody>\n",
       "</table>\n",
       "</div>"
      ],
      "text/plain": [
       "             sigmaritan    energy  danceability   valence       tempo  \\\n",
       "0           alex_clefos  0.836610      0.502875  0.405703  128.829043   \n",
       "1   andreea_covalevschi  0.710757      0.449651  0.413897  122.500013   \n",
       "2        arina_coroliuc  0.586346      0.610177  0.457723  118.518071   \n",
       "3         denis_smocvin  0.742059      0.575356  0.442180  123.830053   \n",
       "4     eduard_balamatiuc  0.623865      0.677276  0.453297  121.224153   \n",
       "5          elena_timbur  0.640411      0.599622  0.482984  120.366621   \n",
       "6           irina_tiora  0.522172      0.517497  0.346859  119.570217   \n",
       "7         lavinia_spinu  0.780510      0.592216  0.389737  125.034020   \n",
       "8         marius_purici  0.642618      0.637237  0.468233  120.448356   \n",
       "9       marius_sclearuc  0.666944      0.486100  0.404296  123.612276   \n",
       "10      nicolae_dubenco  0.654691      0.684913  0.432274  122.965140   \n",
       "11      nicolae_gherman  0.634779      0.615146  0.452823  120.560509   \n",
       "12      vasile_papaluta  0.719381      0.624972  0.466698  122.355780   \n",
       "13        vlada_pulbere  0.485727      0.594992  0.394768  117.243851   \n",
       "14      vladimir_stojoc  0.458597      0.621167  0.342041  117.335094   \n",
       "\n",
       "    popularity  id  \n",
       "0    47.526797   2  \n",
       "1    39.313646   2  \n",
       "2    54.740581   1  \n",
       "3    58.462322   1  \n",
       "4    59.803609   1  \n",
       "5    62.771091   1  \n",
       "6    43.816817   0  \n",
       "7    55.979167   2  \n",
       "8    61.432612   1  \n",
       "9    39.244978   2  \n",
       "10   52.136424   1  \n",
       "11   54.550868   1  \n",
       "12   51.417266   1  \n",
       "13   59.817829   0  \n",
       "14   51.598158   0  "
      ]
     },
     "execution_count": 9,
     "metadata": {},
     "output_type": "execute_result"
    }
   ],
   "source": [
    "cluster"
   ]
  },
  {
   "cell_type": "code",
   "execution_count": 10,
   "id": "5dd3590d",
   "metadata": {},
   "outputs": [],
   "source": [
    "#Creating a dictionary, keys - sigmaritan name , values - id-s\n",
    "id_dict = pd.Series(cluster.id.values,index=cluster.sigmaritan).to_dict()"
   ]
  },
  {
   "cell_type": "code",
   "execution_count": null,
   "id": "28a8b5fe",
   "metadata": {},
   "outputs": [],
   "source": [
    "id_dict"
   ]
  },
  {
   "cell_type": "code",
   "execution_count": 11,
   "id": "de288d75",
   "metadata": {},
   "outputs": [],
   "source": [
    "#Reading initial dataset\n",
    "df = pd.read_csv('Sigmoid_Spotify_Data_2.csv')"
   ]
  },
  {
   "cell_type": "code",
   "execution_count": 12,
   "id": "6572835f",
   "metadata": {},
   "outputs": [],
   "source": [
    "#Mapping through the df the id dictionary\n",
    "df['id'] = df['sigmaritan'].map(id_dict)"
   ]
  },
  {
   "cell_type": "code",
   "execution_count": 13,
   "id": "76474887",
   "metadata": {},
   "outputs": [],
   "source": [
    "#Creating a new dataframe for every id with different ms values - to reduce the number of artists and only get the most 3 liked\n",
    "df0 = df[df['msPlayed'] > 65000]\n",
    "df1 = df[df['msPlayed'] > 60000]\n",
    "df2 = df[df['msPlayed'] > 120000]"
   ]
  },
  {
   "cell_type": "code",
   "execution_count": 14,
   "id": "d6cb4e8f",
   "metadata": {},
   "outputs": [],
   "source": [
    "#Separating the id-s in 3 different dataframes\n",
    "id0_df = df0[df0['id'] == 0]\n",
    "id1_df = df1[df1['id'] == 1]\n",
    "id2_df = df2[df2['id'] == 2]"
   ]
  },
  {
   "cell_type": "code",
   "execution_count": 15,
   "id": "df479b95",
   "metadata": {},
   "outputs": [],
   "source": [
    "#Introducing a new column that will count the number of songs from the same artist listened to by every sigmaritan\n",
    "newdf_0 = id0_df.groupby(['sigmaritan' ,'artistName'], as_index=False).agg(freq=('artistName', 'count'))\n",
    "newdf_1 = id1_df.groupby(['sigmaritan' ,'artistName'], as_index=False).agg(freq=('artistName', 'count'))\n",
    "newdf_2 = id2_df.groupby(['sigmaritan' ,'artistName'], as_index=False).agg(freq=('artistName', 'count'))"
   ]
  },
  {
   "cell_type": "code",
   "execution_count": 16,
   "id": "57ba3bb7",
   "metadata": {},
   "outputs": [],
   "source": [
    "#Choosing only the rows where the freq column value is bigger than a certain number(to get only the 3 most listened to artists)\n",
    "newdf_0 = newdf_0[newdf_0['freq'] > 6]\n",
    "newdf_1 = newdf_1[newdf_1['freq'] > 4]\n",
    "newdf_2 = newdf_2[newdf_2['freq'] > 13]"
   ]
  },
  {
   "cell_type": "markdown",
   "id": "4dc59e22",
   "metadata": {},
   "source": [
    "## The top 3 listened to artists by group"
   ]
  },
  {
   "cell_type": "code",
   "execution_count": 17,
   "id": "ea398311",
   "metadata": {},
   "outputs": [
    {
     "data": {
      "text/plain": [
       "EDEN        3\n",
       "Avicii      3\n",
       "Måneskin    3\n",
       "Name: artistName, dtype: int64"
      ]
     },
     "execution_count": 17,
     "metadata": {},
     "output_type": "execute_result"
    }
   ],
   "source": [
    "#id-0 (3 persons)\n",
    "newdf_0['artistName'].value_counts()[:3]"
   ]
  },
  {
   "cell_type": "code",
   "execution_count": 18,
   "id": "c29de9a1",
   "metadata": {},
   "outputs": [
    {
     "data": {
      "text/plain": [
       "Post Malone        7\n",
       "Ed Sheeran         7\n",
       "Imagine Dragons    7\n",
       "Name: artistName, dtype: int64"
      ]
     },
     "execution_count": 18,
     "metadata": {},
     "output_type": "execute_result"
    }
   ],
   "source": [
    "#id-1 (8 persons)\n",
    "newdf_1['artistName'].value_counts()[:3]"
   ]
  },
  {
   "cell_type": "code",
   "execution_count": 19,
   "id": "022b3c77",
   "metadata": {},
   "outputs": [
    {
     "data": {
      "text/plain": [
       "Black Sabbath       3\n",
       "System Of A Down    3\n",
       "Metallica           3\n",
       "Name: artistName, dtype: int64"
      ]
     },
     "execution_count": 19,
     "metadata": {},
     "output_type": "execute_result"
    }
   ],
   "source": [
    "#id-2 (4 persons)\n",
    "newdf_2['artistName'].value_counts()[:3]"
   ]
  },
  {
   "cell_type": "code",
   "execution_count": 20,
   "id": "387cdb70",
   "metadata": {},
   "outputs": [
    {
     "data": {
      "text/plain": [
       "1    8\n",
       "2    4\n",
       "0    3\n",
       "Name: id, dtype: int64"
      ]
     },
     "execution_count": 20,
     "metadata": {},
     "output_type": "execute_result"
    }
   ],
   "source": [
    "#Vizualizing how many persons are in every cluster\n",
    "cluster.id.value_counts()"
   ]
  },
  {
   "cell_type": "code",
   "execution_count": 21,
   "id": "91dd3c6c",
   "metadata": {},
   "outputs": [],
   "source": [
    "#Loading the genres dataset\n",
    "genres = pd.read_csv('genreDF.csv')"
   ]
  },
  {
   "cell_type": "code",
   "execution_count": null,
   "id": "9c6b3def",
   "metadata": {},
   "outputs": [],
   "source": [
    "#Adding a new column to make the work easier\n",
    "genres['song'] = genres['artistName'] +' '+ genres['trackName']"
   ]
  },
  {
   "cell_type": "code",
   "execution_count": null,
   "id": "a81d92d7",
   "metadata": {
    "scrolled": true
   },
   "outputs": [],
   "source": [
    "#Removing columns we don't need\n",
    "genres = genres.drop(['Unnamed: 0','Unnamed: 0.1', 'Freq_Sig', 'artistName', 'trackName'], axis = 1)"
   ]
  },
  {
   "cell_type": "code",
   "execution_count": null,
   "id": "4caee0bf",
   "metadata": {},
   "outputs": [],
   "source": [
    "#Creating a dictionary of genres\n",
    "x = genres.groupby('song').apply(lambda genres: genres.to_dict(orient='list')).to_dict()"
   ]
  },
  {
   "cell_type": "code",
   "execution_count": null,
   "id": "c9f93fe1",
   "metadata": {},
   "outputs": [],
   "source": [
    "#Trying to get a song's genres\n",
    "x['Kygo Lose Somebody']['Genre']"
   ]
  },
  {
   "cell_type": "code",
   "execution_count": null,
   "id": "5b3de424",
   "metadata": {},
   "outputs": [],
   "source": [
    "#Creating a new dataframe with songs listened to more than 30 s\n",
    "df0 = df[df['msPlayed'] > 30000]\n",
    "#Creating a new dataframe for every id \n",
    "id0_df = df0[df0['id'] == 0]\n",
    "id1_df = df0[df0['id'] == 1]\n",
    "id2_df = df0[df0['id'] == 2]"
   ]
  },
  {
   "cell_type": "code",
   "execution_count": null,
   "id": "ae0901ab",
   "metadata": {},
   "outputs": [],
   "source": [
    "#Adding a new column to make the work easier to every id-dataframe\n",
    "id0_df['song'] = id0_df['artistName'] +' '+ id0_df['trackName']\n",
    "id1_df['song'] = id1_df['artistName'] +' '+ id1_df['trackName']\n",
    "id2_df['song'] = id2_df['artistName'] +' '+ id2_df['trackName']"
   ]
  },
  {
   "cell_type": "code",
   "execution_count": null,
   "id": "08349478",
   "metadata": {},
   "outputs": [],
   "source": [
    "#Removing columns \n",
    "id0_df = id0_df.drop(['Unnamed: 0','endTime', 'id', 'msPlayed'], axis = 1)\n",
    "id1_df = id1_df.drop(['Unnamed: 0','endTime', 'id', 'msPlayed'], axis = 1)\n",
    "id2_df = id2_df.drop(['Unnamed: 0','endTime', 'id', 'msPlayed'], axis = 1)"
   ]
  },
  {
   "cell_type": "code",
   "execution_count": null,
   "id": "cce744f7",
   "metadata": {},
   "outputs": [],
   "source": [
    "#Reseting index\n",
    "for x in id0_df, id1_df,id2_df:\n",
    "    x.reset_index(drop =True, inplace=True)"
   ]
  },
  {
   "cell_type": "code",
   "execution_count": null,
   "id": "76593768",
   "metadata": {},
   "outputs": [],
   "source": [
    "#New df for every id that will contain every genre for every song\n",
    "new_df_0 = pd.DataFrame()\n",
    "new_df_1 = pd.DataFrame()\n",
    "new_df_2 = pd.DataFrame()"
   ]
  },
  {
   "cell_type": "code",
   "execution_count": null,
   "id": "6a546d03",
   "metadata": {},
   "outputs": [],
   "source": [
    "#Adding a new row with a certain genre for every song in the id-dataframes\n",
    "for index, row in id1_df.iterrows():\n",
    "    try:\n",
    "        for y in x[row['song']]['Genre']:\n",
    "            new_df_1 = new_df_1.append( {\n",
    "                'sigmaritan' : row['sigmaritan'],\n",
    "                'artistName': row['artistName'],\n",
    "                'trackName': row['trackName'],\n",
    "                'song' : row['song'],\n",
    "                'Genre' : y \n",
    "            }, ignore_index=True )\n",
    "    except:\n",
    "        new_df_1 = new_df_1.append( {\n",
    "                'sigmaritan' : row['sigmaritan'],\n",
    "                'artistName': row['artistName'],\n",
    "                'trackName': row['trackName'],\n",
    "                'song' : row['song'],\n",
    "                'Genre' : 'not_found' \n",
    "            }, ignore_index=True )\n",
    "    #print(index,y)\n"
   ]
  },
  {
   "cell_type": "markdown",
   "id": "8c199673",
   "metadata": {},
   "source": [
    "## Most popular 3 genres / group"
   ]
  },
  {
   "cell_type": "code",
   "execution_count": 22,
   "id": "82ab0ce8",
   "metadata": {},
   "outputs": [],
   "source": [
    "#Loading the saved datasets\n",
    "new_df_0 = pd.read_csv('id0_genres.csv')\n",
    "new_df_1 = pd.read_csv('id1_genres.csv')\n",
    "new_df_2 = pd.read_csv('id2_genres.csv')"
   ]
  },
  {
   "cell_type": "code",
   "execution_count": 23,
   "id": "d2ecab2e",
   "metadata": {},
   "outputs": [
    {
     "data": {
      "text/plain": [
       "pop            7075\n",
       "modern rock    3628\n",
       "not_found      3287\n",
       "rock           2269\n",
       "Name: Genre, dtype: int64"
      ]
     },
     "execution_count": 23,
     "metadata": {},
     "output_type": "execute_result"
    }
   ],
   "source": [
    "#Group with id-0\n",
    "new_df_0['Genre'].value_counts()[:4]"
   ]
  },
  {
   "cell_type": "code",
   "execution_count": 24,
   "id": "8a11073f",
   "metadata": {},
   "outputs": [
    {
     "data": {
      "text/plain": [
       "pop                34780\n",
       "dance pop          23488\n",
       "russian hip hop    15283\n",
       "rap                14861\n",
       "Name: Genre, dtype: int64"
      ]
     },
     "execution_count": 24,
     "metadata": {},
     "output_type": "execute_result"
    }
   ],
   "source": [
    "#Group with id-1\n",
    "new_df_1['Genre'].value_counts()[:4]"
   ]
  },
  {
   "cell_type": "code",
   "execution_count": 25,
   "id": "62e194b6",
   "metadata": {},
   "outputs": [
    {
     "data": {
      "text/plain": [
       "alternative metal    20444\n",
       "nu metal             18031\n",
       "rap metal            13133\n",
       "rock                 12679\n",
       "Name: Genre, dtype: int64"
      ]
     },
     "execution_count": 25,
     "metadata": {},
     "output_type": "execute_result"
    }
   ],
   "source": [
    "#Group with id-2\n",
    "new_df_2['Genre'].value_counts()[:4]"
   ]
  },
  {
   "cell_type": "code",
   "execution_count": null,
   "id": "a4b461f8",
   "metadata": {},
   "outputs": [],
   "source": []
  }
 ],
 "metadata": {
  "kernelspec": {
   "display_name": "Python 3 (ipykernel)",
   "language": "python",
   "name": "python3"
  },
  "language_info": {
   "codemirror_mode": {
    "name": "ipython",
    "version": 3
   },
   "file_extension": ".py",
   "mimetype": "text/x-python",
   "name": "python",
   "nbconvert_exporter": "python",
   "pygments_lexer": "ipython3",
   "version": "3.7.7"
  }
 },
 "nbformat": 4,
 "nbformat_minor": 5
}
